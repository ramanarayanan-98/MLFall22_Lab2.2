{
  "cells": [
    {
      "cell_type": "markdown",
      "metadata": {
        "id": "view-in-github",
        "colab_type": "text"
      },
      "source": [
        "<a href=\"https://colab.research.google.com/github/ramanarayanan-98/MLFall22_Lab2.2/blob/main/MLFall22_Lab_2_2.ipynb\" target=\"_parent\"><img src=\"https://colab.research.google.com/assets/colab-badge.svg\" alt=\"Open In Colab\"/></a>"
      ]
    },
    {
      "cell_type": "markdown",
      "metadata": {
        "id": "_tllo2lWCrzt"
      },
      "source": [
        "# Lab:  Model Order Selection for Neural Data\n",
        "\n",
        "Machine learning is a key tool for neuroscientists to understand how sensory and motor signals are encoded in the brain.  In addition to improving our scientific understanding of neural phenomena, understanding neural encoding is critical for brain machine interfaces (see. e.g. https://www.youtube.com/watch?v=QRt8QCx3BCo).  In this lab, you will use model selection for performing some simple analysis on real neural signals.  \n",
        "\n",
        "Before doing this lab, you should review the ideas in the polynomial model selection demo.  In addition to the concepts in that demo, you will learn to:\n",
        "* Represent neural time-series data in arrays\n",
        "* Load data from a pickle file\n",
        "* Describe and fit memoryless linear models\n",
        "* Describe and fit linear time-series models with delays\n",
        "* Fit linear models with multiple target outputs\n",
        "* Select the optimal delay via cross-validation"
      ]
    },
    {
      "cell_type": "markdown",
      "metadata": {
        "id": "A7FQzeSQCrzv"
      },
      "source": [
        "## Loading the data\n",
        "\n",
        "The data in this lab comes from neural recordings described in:\n",
        "\n",
        "<a href=\"http://jn.physiology.org/content/106/2/764.short\">\n",
        "Stevenson, Ian H., et al. \"Statistical assessment of the stability of neural movement representations.\" Journal of neurophysiology 106.2 (2011): 764-774</a>\n",
        "\n",
        "Neurons are the basic information processing units in the brain.  Neurons communicate with one another via *spikes* or *action potentials* which are brief events where voltage in the neuron rapidly rises then falls.  These spikes trigger the electro-chemical signals between one neuron and another.  In this experiment, the spikes were recorded from 196 neurons in the primary motor cortex (M1) of a monkey using an electrode array implanted onto the surface of a monkey's brain.  During the recording, the monkey performed several reaching tasks and the position and velocity of the hand was recorded as well.  \n",
        "\n",
        "The goal of the experiment is to try to *read the monkey's brain*:  That is, predict the hand motion from the neural signals from the motor cortex.\n",
        "\n",
        "We first load the key packages."
      ]
    },
    {
      "cell_type": "code",
      "execution_count": 1,
      "metadata": {
        "id": "jQZdRK_ECrzw"
      },
      "outputs": [],
      "source": [
        "import numpy as np\n",
        "import matplotlib.pyplot as plt\n",
        "import pickle\n",
        "\n",
        "from sklearn.linear_model import LinearRegression\n",
        "from sklearn.metrics import r2_score"
      ]
    },
    {
      "cell_type": "markdown",
      "metadata": {
        "id": "mM-ENp65Crzx"
      },
      "source": [
        "The full data is available on the CRCNS website  http://crcns.org/data-sets/movements/dream.  This website has a large number of datasets and can be used for projects as well.  However, the raw data files can be quite large.  To make the lab easier, the [Kording lab](http://kordinglab.com/) at UPenn has put together an excellent [repository](https://github.com/KordingLab/Neural_Decoding) where they have created simple pre-processed versions of the data.  You can download the file `example_data_s1.pickle` from the [course repo](https://github.com/cpmusco/machinelearning2022/blob/master/data/example_data_s1.pickle?raw=true).  Alternatively, you can directly run the following code. "
      ]
    },
    {
      "cell_type": "code",
      "execution_count": 2,
      "metadata": {
        "id": "6ILHrj-mCrzx",
        "outputId": "9a229273-558d-4066-b47a-6dda5d9cd271",
        "colab": {
          "base_uri": "https://localhost:8080/"
        }
      },
      "outputs": [
        {
          "output_type": "stream",
          "name": "stdout",
          "text": [
            "File example_data_s1.pickle is already downloaded\n"
          ]
        }
      ],
      "source": [
        "fn_src = 'https://github.com/cpmusco/machinelearning2022/blob/master/data/example_data_s1.pickle?raw=true'\n",
        "fn_dst = 'example_data_s1.pickle'\n",
        "\n",
        "import os\n",
        "from six.moves import urllib\n",
        "\n",
        "if os.path.isfile(fn_dst):\n",
        "    print('File %s is already downloaded' % fn_dst)\n",
        "else:        \n",
        "    urllib.request.urlretrieve(fn_src, fn_dst)"
      ]
    },
    {
      "cell_type": "markdown",
      "metadata": {
        "id": "B0PFYQ79Crzy"
      },
      "source": [
        "The file is a *pickle* data structure, which is a package to serialize python objects into data files.  Once you have downloaded the file, you can run the following command to retrieve the data from the pickle file."
      ]
    },
    {
      "cell_type": "code",
      "execution_count": 3,
      "metadata": {
        "id": "M5j--2KbCrzy",
        "colab": {
          "base_uri": "https://localhost:8080/"
        },
        "outputId": "034d24bd-3649-4a52-8694-b754884e9089"
      },
      "outputs": [
        {
          "output_type": "execute_result",
          "data": {
            "text/plain": [
              "array([[0., 0., 0., ..., 0., 0., 1.],\n",
              "       [0., 0., 1., ..., 0., 0., 1.],\n",
              "       [0., 0., 0., ..., 0., 0., 1.],\n",
              "       ...,\n",
              "       [0., 0., 0., ..., 0., 0., 0.],\n",
              "       [0., 0., 0., ..., 0., 1., 0.],\n",
              "       [0., 0., 0., ..., 0., 0., 0.]])"
            ]
          },
          "metadata": {},
          "execution_count": 3
        }
      ],
      "source": [
        "with open('example_data_s1.pickle', 'rb') as fp:\n",
        "    X,y = pickle.load(fp)\n",
        "X"
      ]
    },
    {
      "cell_type": "markdown",
      "metadata": {
        "id": "EsuoKB-wCrzz"
      },
      "source": [
        "The matrix `X` is matrix of spike counts where `X[i,j]` is the number of spikes from neuron `j` in time bin `i`.\n",
        "The matrix `y` has two columns:\n",
        "* `y[i,0] = ` velocity of the monkey's hand in the x-direction\n",
        "* `y[i,1] = ` velocity of the monkey's hand in the y-direction\n",
        "\n",
        "Our goal will be to predict **only** `y[i,0]` from `X`. We could just as easily predict movement in both directions, but this simplifies the lab.  So we reassign:"
      ]
    },
    {
      "cell_type": "code",
      "execution_count": 4,
      "metadata": {
        "id": "v3DEsangCrzz",
        "colab": {
          "base_uri": "https://localhost:8080/"
        },
        "outputId": "ce6702f5-5884-4f2a-bcf2-0aa2bb6395ce"
      },
      "outputs": [
        {
          "output_type": "execute_result",
          "data": {
            "text/plain": [
              "array([ 1.51037413e-01, -1.39498351e-01, -3.55773944e-01, ...,\n",
              "        3.19722904e-06,  7.24814520e-07,  9.51148351e-07])"
            ]
          },
          "metadata": {},
          "execution_count": 4
        }
      ],
      "source": [
        "y = y[:,0]\n",
        "y"
      ]
    },
    {
      "cell_type": "markdown",
      "metadata": {
        "id": "1-JH7bgMCrz0"
      },
      "source": [
        "Each time bin represent `tsamp=0.05` seconds of time.  Using `X.shape` and `y.shape` compute and print:\n",
        "* `nt = ` the total number of time bins\n",
        "* `nneuron = ` the total number of neurons\n",
        "* `ttotal = ` total time of the experiment is seconds. "
      ]
    },
    {
      "cell_type": "code",
      "execution_count": 5,
      "metadata": {
        "id": "-_U3-5s4Crz1",
        "colab": {
          "base_uri": "https://localhost:8080/"
        },
        "outputId": "4c5582f4-cc01-4ad5-a996-a09958d2fdcf"
      },
      "outputs": [
        {
          "output_type": "stream",
          "name": "stdout",
          "text": [
            "Tot time bins = 61339, Tot neurons = 52, ttotal = 3066.9500000000003\n"
          ]
        }
      ],
      "source": [
        "tsamp = 0.05  # sampling time in seconds\n",
        "\n",
        "nt = X.shape[0]\n",
        "nneuron = X.shape[1]\n",
        "ttotal = tsamp*nt\n",
        "print(f\"Tot time bins = {nt}, Tot neurons = {nneuron}, ttotal = {ttotal}\")"
      ]
    },
    {
      "cell_type": "markdown",
      "metadata": {
        "id": "_2dukHJNCrz1"
      },
      "source": [
        "## Fitting a Memoryless Linear Model\n",
        "\n",
        "Let's first try a simple linear regression model to fit the data. \n",
        "\n",
        "Before doing so, we want to split the data into a training and test set. We will use a 2/3 - 1/3 split, so 1/3 of the data should be used for testing.\n",
        "\n",
        "Let `Xtr,ytr` be the training data set and `Xts,yts` be the test data set. Recall that `ytr` and `yts` should be taken from the *first column of `y` only*. You can use any utility to perform the split that you want, but make sure that it is *random*. I.e. don't just take the first rows of the data to be the training data. `np.random.permutation` might come in handy. "
      ]
    },
    {
      "cell_type": "code",
      "execution_count": 6,
      "metadata": {
        "id": "1kazgWggCrz2"
      },
      "outputs": [],
      "source": [
        "def splitIntoTrainAndTest(X,y):\n",
        "  shuffler = np.random.permutation(len(X))\n",
        "  X_shuff = X[shuffler]\n",
        "  y_shuff = y[shuffler]\n",
        "\n",
        "  nts = nt // 3\n",
        "  # Testing\n",
        "  Xts = X_shuff[:nts]\n",
        "  yts = y_shuff[:nts]\n",
        "\n",
        "  # Training\n",
        "  Xtr = X_shuff[nts:]\n",
        "  ytr = y_shuff[nts:]\n",
        "  return Xtr,ytr,Xts,yts\n",
        "\n",
        "Xtr,ytr,Xts,yts = splitIntoTrainAndTest(X,y)"
      ]
    },
    {
      "cell_type": "markdown",
      "metadata": {
        "id": "1twTYs0eCrz2"
      },
      "source": [
        "Now, fit a multiple linear regression model under squared loss using `Xtr,ytr`. Make predictions  `yhat` using `Xts`."
      ]
    },
    {
      "cell_type": "code",
      "source": [
        "def performCalculation(X,y):\n",
        "  Xt = np.transpose(X)\n",
        "  beta = np.linalg.inv(Xt@X)@Xt@y\n",
        "  return beta"
      ],
      "metadata": {
        "id": "N_PxAGAjc78F"
      },
      "execution_count": 7,
      "outputs": []
    },
    {
      "cell_type": "code",
      "source": [
        "def createMatrix(X):\n",
        "  ones = np.ones((len(X),1))\n",
        "  matX = np.hstack((ones,X))\n",
        "  return matX"
      ],
      "metadata": {
        "id": "8S9Q5PZTdA9q"
      },
      "execution_count": 8,
      "outputs": []
    },
    {
      "cell_type": "code",
      "source": [
        "beta = performCalculation(createMatrix(Xtr),ytr)\n",
        "beta"
      ],
      "metadata": {
        "colab": {
          "base_uri": "https://localhost:8080/"
        },
        "id": "0-kYbqHRdQTa",
        "outputId": "deed1852-d29d-415c-e158-61c99c4fe236"
      },
      "execution_count": 9,
      "outputs": [
        {
          "output_type": "execute_result",
          "data": {
            "text/plain": [
              "array([ 0.19807272,  1.72588166,  0.233775  , -0.75989144,  0.06894876,\n",
              "       -0.24692041,  1.05034234,  0.39784725,  0.08547751, -0.27412278,\n",
              "        1.20470468, -0.03919257,  0.7112576 ,  0.08351714,  0.09996683,\n",
              "       -2.08410513,  0.0648983 , -1.08934952,  0.49949813, -0.25063096,\n",
              "        0.42825306,  0.6489315 ,  1.41712155,  1.88064694, -0.50043566,\n",
              "       -0.11196315,  0.53227377, -0.12602161, -0.14236321, -0.16468036,\n",
              "       -0.73298904,  0.09617447, -0.11064279, -0.40101309,  0.27540506,\n",
              "       -0.70589007,  0.61281002, -1.02230837,  0.30196605, -0.31543366,\n",
              "        0.49052027,  0.09696905, -0.54917776, -0.4020538 ,  0.61564312,\n",
              "       -0.47721611, -0.29890894, -2.14838638,  0.11776021, -1.00437193,\n",
              "       -0.1586172 , -0.65015543, -0.38635456])"
            ]
          },
          "metadata": {},
          "execution_count": 9
        }
      ]
    },
    {
      "cell_type": "code",
      "execution_count": 10,
      "metadata": {
        "id": "5hTviMf1Crz2",
        "colab": {
          "base_uri": "https://localhost:8080/"
        },
        "outputId": "1952480e-ea31-41c2-8ac2-0fb88f48414f"
      },
      "outputs": [
        {
          "output_type": "execute_result",
          "data": {
            "text/plain": [
              "array([-5.59491357, -3.22920214, -4.24726026, ...,  8.59984408,\n",
              "       -2.95357818,  4.48135996])"
            ]
          },
          "metadata": {},
          "execution_count": 10
        }
      ],
      "source": [
        "yhat = createMatrix(Xts)@beta\n",
        "yhat"
      ]
    },
    {
      "cell_type": "markdown",
      "metadata": {
        "id": "TqgNOrM9Crz2"
      },
      "source": [
        "Compare `yhat` to `yts` to measure the **averaged squared loss** (empirical risk) on the test set. Print the output. You should obtain an average loss of around 32 or 33 if you are normalizing by 1/(test set size)."
      ]
    },
    {
      "cell_type": "code",
      "execution_count": 11,
      "metadata": {
        "id": "OEF3B3JFCrz3",
        "colab": {
          "base_uri": "https://localhost:8080/"
        },
        "outputId": "eea4f337-fc3a-4bd5-a039-93d68ceab62e"
      },
      "outputs": [
        {
          "output_type": "execute_result",
          "data": {
            "text/plain": [
              "32.23816566258111"
            ]
          },
          "metadata": {},
          "execution_count": 11
        }
      ],
      "source": [
        "loss = np.sum((yhat-yts)**2)/len(yts)\n",
        "loss"
      ]
    },
    {
      "cell_type": "markdown",
      "metadata": {
        "id": "IHn0sLXlCrz3"
      },
      "source": [
        "It is useful to plot the predicted vs. true values. Plot `yhat` vs. `yts` with a scatter plot and label the axes. If the predicted values exactly matched the targets, we would expect to see a line with slope 1. "
      ]
    },
    {
      "cell_type": "code",
      "execution_count": 12,
      "metadata": {
        "id": "RtwkJAruCrz3",
        "colab": {
          "base_uri": "https://localhost:8080/",
          "height": 279
        },
        "outputId": "29e0bd34-aa16-497a-b3e9-dad6e6d57065"
      },
      "outputs": [
        {
          "output_type": "display_data",
          "data": {
            "text/plain": [
              "<Figure size 432x288 with 1 Axes>"
            ],
            "image/png": "[encoded data removed]"
          },
          "metadata": {
            "needs_background": "light"
          }
        }
      ],
      "source": [
        "plt.scatter(yhat,yts)\n",
        "plt.xlabel(\"Yhat(Predicted)\")\n",
        "plt.ylabel(\"Yts(Actual)\")\n",
        "plt.grid(True)"
      ]
    },
    {
      "cell_type": "markdown",
      "metadata": {
        "id": "Y2Fyog-iCrz4"
      },
      "source": [
        "## Fitting Models with Delay\n",
        "\n",
        "One way we can improve the model accuracy is to used delayed version of the features.  Specifically, the model we used above mapped the features \n",
        "\n",
        "$$\n",
        "\\hat{y}_i = \\sum_{j=1}^{p} X_{i,j}*\\beta_j + \\beta_0\n",
        "$$\n",
        "where $p$ is the number of features and $\\beta$ is our vector of coefficients.  In this model,  $\\hat{y}_i$ at time $i$ was only dependent on the inputs  $X_{i,1,\\ldots,p}$ at time $i$.  In signal processing, this is called a *memoryless* model.  However, in many physical systems, such as those that arise in neuroscience, there is a delay between the inputs $X_{i,1,\\ldots,p}$ and the outputs $y_i$.  For such cases, we can use a model of the form,\n",
        "\n",
        "$$\n",
        "\\hat{y}_{i+d} = \\sum_{m=0}^d \\sum_{j=1}^{p} X_{i+m,j}*\\beta_{j,m} + \\beta_{0,m}\n",
        "$$\n",
        "    \n",
        "where $\\beta$ is now a 2-dim array of coefficients where $\\beta_{j,m}$ is the influence of the input $X_{i+m,j}$ onto output $y_{i+d}$\n",
        "\n",
        "\n",
        "In signal processing, this model is called an *FIR* filter.  The point is that the output at time `i+d` depends on the inputs at times `i,i+1,...,i+d`.  Hence, it depends on the last `d+1` time steps, not just the most recent time.\n",
        "\n",
        "To translate this into a linear regression problem, complete the following function that creates a new feature and target matrix where:\n",
        "\n",
        "    Xdly[i,:] is the concatenation of the vectors X[i,:], X[i+1,:], ..., X[i+d,:]\n",
        "    ydly[i,:] = y[i+d,:]\n",
        "    \n",
        "Note that if `X` is `n x p` then `Xdly` will be `n-d x (d+1)*p`.  \n"
      ]
    },
    {
      "cell_type": "code",
      "execution_count": 13,
      "metadata": {
        "id": "YQ20N8P0Crz4",
        "colab": {
          "base_uri": "https://localhost:8080/"
        },
        "outputId": "6590f986-b6f4-4573-e225-64fc983d16ed"
      },
      "outputs": [
        {
          "output_type": "execute_result",
          "data": {
            "text/plain": [
              "array([[0., 0., 0., ..., 0., 0., 0.],\n",
              "       [0., 0., 1., ..., 0., 1., 1.],\n",
              "       [0., 0., 0., ..., 0., 0., 0.],\n",
              "       ...,\n",
              "       [0., 0., 0., ..., 0., 0., 0.],\n",
              "       [0., 0., 1., ..., 0., 1., 0.],\n",
              "       [0., 0., 0., ..., 0., 0., 0.]])"
            ]
          },
          "metadata": {},
          "execution_count": 13
        }
      ],
      "source": [
        "def create_dly_data(X,y,d):\n",
        "    \"\"\"\n",
        "    Create delayed data\n",
        "    \"\"\"    \n",
        "    Xdly = [None]*(len(X)-d)\n",
        "    ydly = [None]*(len(X)-d)\n",
        "    for i in range(len(X)-d):\n",
        "      Xdly[i] = X[i:i+d+1].flatten()\n",
        "      ydly[i] = y[i+d]\n",
        "\n",
        "    return np.asarray(Xdly), np.asarray(ydly)\n",
        "\n",
        "Xdly,ydly = create_dly_data(X,y,6)\n",
        "Xdly"
      ]
    },
    {
      "cell_type": "markdown",
      "metadata": {
        "id": "OTzKnLsQCrz4"
      },
      "source": [
        "Now fit an linear delayed model with `d=6` additional delay lags.  That is,\n",
        "* Create delayed data `Xdly,ydly=create_dly_data(X,y,6)`\n",
        "* Split the data into training and test as before\n",
        "* Fit the model on the training data\n",
        "* Measure the average squared loss (risk) on the test data\n",
        "\n",
        "You should see a significant improvement from the memoryless model."
      ]
    },
    {
      "cell_type": "code",
      "execution_count": 14,
      "metadata": {
        "id": "f9bhJ1m_Crz4"
      },
      "outputs": [],
      "source": [
        "Xtrdly,ytrdly,Xtsdly,ytsdly = splitIntoTrainAndTest(Xdly,ydly)\n",
        "betaDly = performCalculation(createMatrix(Xtrdly),ytrdly)"
      ]
    },
    {
      "cell_type": "code",
      "source": [
        "yhattsdly = createMatrix(Xtsdly).dot(betaDly)\n",
        "loss = np.sum((yhattsdly-ytsdly)**2)/len(ytsdly)\n",
        "loss"
      ],
      "metadata": {
        "colab": {
          "base_uri": "https://localhost:8080/"
        },
        "id": "cojC5ofHEDpM",
        "outputId": "73b259bc-aab3-4bd2-84f0-742d80bc817d"
      },
      "execution_count": 15,
      "outputs": [
        {
          "output_type": "execute_result",
          "data": {
            "text/plain": [
              "17.481718003918623"
            ]
          },
          "metadata": {},
          "execution_count": 15
        }
      ]
    },
    {
      "cell_type": "markdown",
      "metadata": {
        "id": "2NH12ZLuCrz5"
      },
      "source": [
        "Plot the predicted vs. true values as before. You should visually see the improvement too."
      ]
    },
    {
      "cell_type": "code",
      "execution_count": 16,
      "metadata": {
        "id": "y8_1L9aICrz5",
        "colab": {
          "base_uri": "https://localhost:8080/",
          "height": 279
        },
        "outputId": "655823a0-9905-40ef-9970-576bbe27d034"
      },
      "outputs": [
        {
          "output_type": "display_data",
          "data": {
            "text/plain": [
              "<Figure size 432x288 with 1 Axes>"
            ],
            "image/png": "[encoded data removed]"
          },
          "metadata": {
            "needs_background": "light"
          }
        }
      ],
      "source": [
        "plt.scatter(yhattsdly,ytsdly)\n",
        "plt.xlabel(\"Yhat(Predicted)\")\n",
        "plt.ylabel(\"Yts(Actual)\")\n",
        "plt.grid(True)"
      ]
    },
    {
      "cell_type": "markdown",
      "metadata": {
        "id": "zpntYh3RCrz5"
      },
      "source": [
        "## Selecting the Optimal Delay via Model Order Selection\n",
        "\n",
        "In the previous example, we fixed `d=6`.  We can now select the optimal delay using model order selection.  Since we have a large number of data samples, it turns out that the optimal model order uses a very high delay.  \n",
        "So to save on computation time, we will just do a simple train-test split. We won't do any k-fold cross-validation. "
      ]
    },
    {
      "cell_type": "markdown",
      "metadata": {
        "id": "5Ob5LUgtCrz5"
      },
      "source": [
        "We will look at model orders up to `dmax=30`.  Create a delayed dataset, `Xdly,ydly` using `create_dly_data` with `dly=dmax`. Split this data into training and test data as before, with a 2/3 -1/3 split."
      ]
    },
    {
      "cell_type": "code",
      "execution_count": 21,
      "metadata": {
        "id": "mhRgMEFFCrz5",
        "colab": {
          "base_uri": "https://localhost:8080/"
        },
        "outputId": "fbc7adac-5682-402c-f4d9-1d291710d72b"
      },
      "outputs": [
        {
          "output_type": "stream",
          "name": "stdout",
          "text": [
            "Loss for (d = dmax = 30) = 16.689187052025847 \n"
          ]
        }
      ],
      "source": [
        "dmax = 30\n",
        "\n",
        "Xdly30, ydly30 = create_dly_data(X,y,dmax)\n",
        "Xtrdly30,ytrdly30,Xtsdly30,ytsdly30 = splitIntoTrainAndTest(Xdly30,ydly30)\n",
        "betaDly30 = performCalculation(createMatrix(Xtrdly30),ytrdly30)\n",
        "yhattsdly30 = createMatrix(Xtsdly30).dot(betaDly30)\n",
        "loss = np.sum((yhattsdly30-ytsdly30)**2)/len(ytsdly30)\n",
        "print(f\"Loss for (d = dmax = 30) = {loss} \")"
      ]
    },
    {
      "cell_type": "markdown",
      "metadata": {
        "id": "cdDankI2Crz6"
      },
      "source": [
        "Implement a loop to test different amounts of delay from 0 to `dmax`. For each delay, you should train on the train set and compute the average squared loss on the test set. Store these losses in an array `losses`.\n",
        "\n",
        "Note that for different delay values you should be using a different **subset of columns** from the `Xdly` matrix you just created. To save time, you don't want to be re-creating a new test set for each model order you experiment with.\n",
        "\n",
        "**Note:** This could take a long time (several minutes) to run! This is a large data set and we are using many features in our multivariate regression. You might want to test/debug your code with a signficantly small value of `dmax` before doing a final run."
      ]
    },
    {
      "cell_type": "code",
      "execution_count": 22,
      "metadata": {
        "id": "6-bbWPoDCrz6",
        "colab": {
          "base_uri": "https://localhost:8080/"
        },
        "outputId": "2013b61f-3cc5-4ac2-f4c0-d63b2c10d590"
      },
      "outputs": [
        {
          "output_type": "stream",
          "name": "stdout",
          "text": [
            "d = 0 : loss = 31.606247495492646\n",
            "d = 1 : loss = 25.537486147981788\n",
            "d = 2 : loss = 22.557880703539215\n",
            "d = 3 : loss = 20.54674808464817\n",
            "d = 4 : loss = 18.796903923257247\n",
            "d = 5 : loss = 17.985173408458195\n",
            "d = 6 : loss = 17.71261771547103\n",
            "d = 7 : loss = 16.97634631215737\n",
            "d = 8 : loss = 16.522154236746456\n",
            "d = 9 : loss = 16.4980166666718\n",
            "d = 10 : loss = 16.365293992210525\n",
            "d = 11 : loss = 16.355816233544623\n",
            "d = 12 : loss = 16.325283162491555\n",
            "d = 13 : loss = 16.361771092540607\n",
            "d = 14 : loss = 16.736234661585645\n",
            "d = 15 : loss = 16.30812628766669\n",
            "d = 16 : loss = 15.997157810161555\n",
            "d = 17 : loss = 16.369903963302278\n",
            "d = 18 : loss = 15.91525956601118\n",
            "d = 19 : loss = 16.193567943490542\n",
            "d = 20 : loss = 16.442354069004903\n",
            "d = 21 : loss = 16.490787431536223\n",
            "d = 22 : loss = 16.534519695178542\n",
            "d = 23 : loss = 16.399037698997766\n",
            "d = 24 : loss = 16.197259746588283\n",
            "d = 25 : loss = 16.24664997514882\n",
            "d = 26 : loss = 16.25471022789397\n",
            "d = 27 : loss = 16.338948708713428\n",
            "d = 28 : loss = 16.01783090945604\n",
            "d = 29 : loss = 16.265993497036167\n"
          ]
        }
      ],
      "source": [
        "losses = np.zeros(dmax)\n",
        "for i in range(0,dmax):\n",
        "    Xdlyi, ydlyi = create_dly_data(X,y,i)\n",
        "    Xtrdlyi,ytrdlyi,Xtsdlyi,ytsdlyi = splitIntoTrainAndTest(Xdlyi,ydlyi)\n",
        "    betaDlyi = performCalculation(createMatrix(Xtrdlyi),ytrdlyi)\n",
        "    yhattsdlyi = createMatrix(Xtsdlyi).dot(betaDlyi)\n",
        "    losses[i] = np.sum((yhattsdlyi-ytsdlyi)**2)/len(ytsdlyi)\n",
        "    print(f\"d = {i} : loss = {losses[i]}\")"
      ]
    },
    {
      "cell_type": "markdown",
      "metadata": {
        "id": "kx1-7un8Crz6"
      },
      "source": [
        "Which amount of delay lead to the best model fit? Plot losses as a function of `range(0,dmax)` to visualize how generalization of your model changes with increasing complexity"
      ]
    },
    {
      "cell_type": "code",
      "execution_count": 25,
      "metadata": {
        "id": "Q2JWfPcTCrz6",
        "colab": {
          "base_uri": "https://localhost:8080/",
          "height": 313
        },
        "outputId": "907a026c-6275-45eb-80d7-96b3a79eb69a"
      },
      "outputs": [
        {
          "output_type": "stream",
          "name": "stdout",
          "text": [
            "Minimum loss of 15.91525956601118 happens when d = 18\n"
          ]
        },
        {
          "output_type": "display_data",
          "data": {
            "text/plain": [
              "<Figure size 432x288 with 1 Axes>"
            ],
            "image/png": "[encoded data removed]"
          },
          "metadata": {
            "needs_background": "light"
          }
        }
      ],
      "source": [
        "best_d, best_loss=np.argmin(losses),np.min(losses)\n",
        "print(f\"Minimum loss of {best_loss} happens when d = {best_d}\")\n",
        "plt.plot(range(0,dmax),losses)\n",
        "plt.xlabel(\"Delay\")\n",
        "plt.ylabel(\"Squared Loss\")\n",
        "plt.title(\"Delay vs Loss\")\n",
        "plt.grid(True)"
      ]
    }
  ],
  "metadata": {
    "kernelspec": {
      "display_name": "Python 3",
      "language": "python",
      "name": "python3"
    },
    "language_info": {
      "codemirror_mode": {
        "name": "ipython",
        "version": 3
      },
      "file_extension": ".py",
      "mimetype": "text/x-python",
      "name": "python",
      "nbconvert_exporter": "python",
      "pygments_lexer": "ipython3",
      "version": "3.7.4"
    },
    "colab": {
      "provenance": [],
      "collapsed_sections": [],
      "include_colab_link": true
    }
  },
  "nbformat": 4,
  "nbformat_minor": 0
}